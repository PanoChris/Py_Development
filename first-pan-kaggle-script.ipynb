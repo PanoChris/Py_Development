{
 "cells": [
  {
   "cell_type": "code",
   "execution_count": 1,
   "id": "62fd002b",
   "metadata": {
    "_cell_guid": "b1076dfc-b9ad-4769-8c92-a6c4dae69d19",
    "_uuid": "8f2839f25d086af736a60e9eeb907d3b93b6e0e5",
    "execution": {
     "iopub.execute_input": "2022-04-08T17:06:19.214862Z",
     "iopub.status.busy": "2022-04-08T17:06:19.213630Z",
     "iopub.status.idle": "2022-04-08T17:06:19.224361Z",
     "shell.execute_reply": "2022-04-08T17:06:19.224903Z",
     "shell.execute_reply.started": "2022-04-08T17:05:46.975114Z"
    },
    "papermill": {
     "duration": 0.020584,
     "end_time": "2022-04-08T17:06:19.225232",
     "exception": false,
     "start_time": "2022-04-08T17:06:19.204648",
     "status": "completed"
    },
    "tags": []
   },
   "outputs": [],
   "source": [
    "# This Python 3 environment comes with many helpful analytics libraries installed\n",
    "# It is defined by the kaggle/python Docker image: https://github.com/kaggle/docker-python\n",
    "# For example, here's several helpful packages to load\n",
    "\n",
    "import numpy as np # linear algebra\n",
    "import pandas as pd # data processing, CSV file I/O (e.g. pd.read_csv)\n",
    "\n",
    "# Input data files are available in the read-only \"../input/\" directory\n",
    "# For example, running this (by clicking run or pressing Shift+Enter) will list all files under the input directory\n",
    "\n",
    "import os\n",
    "for dirname, _, filenames in os.walk('/kaggle/input'):\n",
    "    for filename in filenames:\n",
    "        print(os.path.join(dirname, filename))\n",
    "\n",
    "# You can write up to 20GB to the current directory (/kaggle/working/) that gets preserved as output when you create a version using \"Save & Run All\" \n",
    "# You can also write temporary files to /kaggle/temp/, but they won't be saved outside of the current session"
   ]
  },
  {
   "cell_type": "code",
   "execution_count": 2,
   "id": "79826de4",
   "metadata": {
    "execution": {
     "iopub.execute_input": "2022-04-08T17:06:19.239303Z",
     "iopub.status.busy": "2022-04-08T17:06:19.238246Z",
     "iopub.status.idle": "2022-04-08T17:06:19.247422Z",
     "shell.execute_reply": "2022-04-08T17:06:19.246852Z",
     "shell.execute_reply.started": "2022-04-08T17:05:46.983436Z"
    },
    "papermill": {
     "duration": 0.016413,
     "end_time": "2022-04-08T17:06:19.247573",
     "exception": false,
     "start_time": "2022-04-08T17:06:19.231160",
     "status": "completed"
    },
    "tags": []
   },
   "outputs": [
    {
     "name": "stdout",
     "output_type": "stream",
     "text": [
      "-20\n",
      "-15\n",
      "-10\n",
      "-5\n",
      "0\n",
      "5\n",
      "10\n",
      "15\n",
      "20\n",
      "25\n",
      "30\n",
      "35\n",
      "40\n",
      "45\n",
      "hello\n",
      "hello world\n"
     ]
    }
   ],
   "source": [
    "def test(x):\n",
    "    while x<50:\n",
    "        print (x)\n",
    "        x +=5\n",
    "\n",
    "test(-20)\n",
    "print('hello')\n",
    "print('hello world')"
   ]
  }
 ],
 "metadata": {
  "kernelspec": {
   "display_name": "Python 3",
   "language": "python",
   "name": "python3"
  },
  "language_info": {
   "codemirror_mode": {
    "name": "ipython",
    "version": 3
   },
   "file_extension": ".py",
   "mimetype": "text/x-python",
   "name": "python",
   "nbconvert_exporter": "python",
   "pygments_lexer": "ipython3",
   "version": "3.7.12"
  },
  "papermill": {
   "default_parameters": {},
   "duration": 11.066757,
   "end_time": "2022-04-08T17:06:19.861476",
   "environment_variables": {},
   "exception": null,
   "input_path": "__notebook__.ipynb",
   "output_path": "__notebook__.ipynb",
   "parameters": {},
   "start_time": "2022-04-08T17:06:08.794719",
   "version": "2.3.3"
  }
 },
 "nbformat": 4,
 "nbformat_minor": 5
}
